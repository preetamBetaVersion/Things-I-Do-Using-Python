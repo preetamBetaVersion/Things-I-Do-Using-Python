{
 "cells": [
  {
   "cell_type": "markdown",
   "id": "ed228e4b-2884-431d-a39c-0813bf3d6a9b",
   "metadata": {},
   "source": [
    "\n",
    "# What is **Python** ?\n",
    "\n"
   ]
  },
  {
   "cell_type": "markdown",
   "id": "57f6c6fd-ad1b-48f7-a6e0-04113c7e8058",
   "metadata": {},
   "source": [
    "Python is an object oriented , high level programming language with built in data structures and dynamic semantics"
   ]
  },
  {
   "cell_type": "markdown",
   "id": "66c963c9-21e4-4069-9608-9327573db23b",
   "metadata": {},
   "source": [
    "## What is a high level language?\n",
    "\n",
    "A high level language is any programming language that enables development of a program in a much more user friendly programming context and is generally independent of the computer's hardware architecture.\n",
    "\n",
    ">Note : Python is a **high level language** and is **open source**"
   ]
  },
  {
   "cell_type": "markdown",
   "id": "5f2620e9-2287-4b27-95dc-545ad7c10b53",
   "metadata": {},
   "source": [
    "<span style=\"color:blue\"><b>Advantages of Python</b></span>"
   ]
  },
  {
   "cell_type": "markdown",
   "id": "6c35118d-79a8-4231-9eb0-844742dfc57e",
   "metadata": {},
   "source": [
    ">Easy to use\n",
    "\n",
    ">Active community\n",
    "\n",
    ">Portable, extensible\n",
    "\n",
    ">Python supports various built in testing frameworks that help in debugging and speeding up workflows.\n",
    "\n",
    ">libraries and packages\n",
    "\n",
    ">Scripting and automation\n",
    "\n",
    ">web dev\n",
    "\n",
    ">machine learning\n",
    "\n",
    ">data science"
   ]
  },
  {
   "cell_type": "markdown",
   "id": "2586fc1f-af7e-460d-b820-5551e2d71d89",
   "metadata": {},
   "source": [
    "### A python developer's skillsets include"
   ]
  },
  {
   "cell_type": "markdown",
   "id": "f11e364e-677f-4365-bd20-8366e5eeef40",
   "metadata": {},
   "source": [
    "**Core Python skills**\n",
    "\n",
    ">Data structures\n",
    "\n",
    ">OOP concepts\n",
    "\n",
    "> Packages and functions\n",
    "\n",
    ">Database and its connection"
   ]
  },
  {
   "cell_type": "markdown",
   "id": "f1e72c0d-dea3-4001-9e37-c4d36c8b5005",
   "metadata": {},
   "source": [
    "**Datascience skills**\n",
    "\n",
    ">Numpy\n",
    "\n",
    ">Pandas\n",
    "\n",
    ">Scipy\n",
    "\n",
    ">Matplotlib\n",
    "\n",
    ">Machine learning algorithms"
   ]
  },
  {
   "cell_type": "markdown",
   "id": "3d161d11-d7ef-462e-91ba-0fc41d9a38d7",
   "metadata": {},
   "source": [
    "### Web developer skills\n",
    "\n",
    "> Django framework\n",
    "\n",
    ">Web scraping\n",
    "\n",
    ">API handling\n",
    "\n",
    ">Backend connection"
   ]
  },
  {
   "cell_type": "markdown",
   "id": "ec217aa4-2b75-4825-bfd9-630bdcc231ab",
   "metadata": {},
   "source": [
    "## Job role of a python data analyst\n",
    "\n",
    ">work on python libraries including matplotlib, numpy, pandas etc\n",
    "\n",
    ">carry out data analysis\n",
    "\n",
    ">collect data using the scripting language \n",
    "\n",
    ">explore datasets\n",
    "\n",
    ">gather requirements\n",
    "\n",
    ">tune applications\n",
    "\n",
    ">analyze problems\n",
    "\n",
    ">communicate findings with the team or stakeholders"
   ]
  },
  {
   "cell_type": "markdown",
   "id": "01a88d7a-a9ad-4839-9ebc-2db15b460a70",
   "metadata": {},
   "source": [
    "# Applications of Python\n",
    "> Web Development  \n",
    "\n",
    "> Game development  \n",
    "\n",
    "> Scientific applications  \n",
    "\n",
    "> Education program  \n",
    "\n",
    "> Desktop Development  \n",
    "\n",
    "> Artificial Intelligence  \n",
    "\n",
    "> Graphic design applications  "
   ]
  },
  {
   "cell_type": "markdown",
   "id": "7c23032a-9487-4a0d-ba86-d42878fffac3",
   "metadata": {},
   "source": [
    "# Installing Python  \n",
    "I will be using the <span style=\"color:green\">Anaconda python environment</span> (ideal for data science, data analytics etc)"
   ]
  }
 ],
 "metadata": {
  "kernelspec": {
   "display_name": "Python 3 (ipykernel)",
   "language": "python",
   "name": "python3"
  },
  "language_info": {
   "codemirror_mode": {
    "name": "ipython",
    "version": 3
   },
   "file_extension": ".py",
   "mimetype": "text/x-python",
   "name": "python",
   "nbconvert_exporter": "python",
   "pygments_lexer": "ipython3",
   "version": "3.9.7"
  }
 },
 "nbformat": 4,
 "nbformat_minor": 5
}
