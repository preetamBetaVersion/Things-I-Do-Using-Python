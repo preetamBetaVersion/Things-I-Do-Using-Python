{
 "cells": [
  {
   "cell_type": "markdown",
   "id": "41feec12-ab77-438c-809a-60548cc2d125",
   "metadata": {},
   "source": [
    "# Arithmetic operations in Python"
   ]
  },
  {
   "cell_type": "code",
   "execution_count": 10,
   "id": "f9c8de3d-a249-42c4-8623-f363540173ef",
   "metadata": {},
   "outputs": [
    {
     "data": {
      "text/plain": [
       "5"
      ]
     },
     "execution_count": 10,
     "metadata": {},
     "output_type": "execute_result"
    }
   ],
   "source": [
    "# addition\n",
    "2+3"
   ]
  },
  {
   "cell_type": "code",
   "execution_count": 11,
   "id": "eb898e01-7125-4b6e-99a9-0c5d9b7d2ffa",
   "metadata": {},
   "outputs": [
    {
     "data": {
      "text/plain": [
       "-2"
      ]
     },
     "execution_count": 11,
     "metadata": {},
     "output_type": "execute_result"
    }
   ],
   "source": [
    "# subtraction\n",
    "3-5"
   ]
  },
  {
   "cell_type": "code",
   "execution_count": 12,
   "id": "6267fcda-6ed6-4b14-a7f3-05b8ae326b6b",
   "metadata": {},
   "outputs": [
    {
     "data": {
      "text/plain": [
       "32"
      ]
     },
     "execution_count": 12,
     "metadata": {},
     "output_type": "execute_result"
    }
   ],
   "source": [
    "# multiplication\n",
    "4*8"
   ]
  },
  {
   "cell_type": "code",
   "execution_count": 13,
   "id": "3cf6e646-4d66-4ada-9c32-3e5f9892eb24",
   "metadata": {},
   "outputs": [
    {
     "data": {
      "text/plain": [
       "6.5"
      ]
     },
     "execution_count": 13,
     "metadata": {},
     "output_type": "execute_result"
    }
   ],
   "source": [
    "# division\n",
    "13/2"
   ]
  },
  {
   "cell_type": "code",
   "execution_count": 6,
   "id": "0357a969-e2b9-4a53-8109-72fea531b621",
   "metadata": {},
   "outputs": [
    {
     "data": {
      "text/plain": [
       "6"
      ]
     },
     "execution_count": 6,
     "metadata": {},
     "output_type": "execute_result"
    }
   ],
   "source": [
    "#division (floor) - returns the largest whole number lesser than the actual result \n",
    "13//2"
   ]
  },
  {
   "cell_type": "code",
   "execution_count": 14,
   "id": "89e69b20-877a-43e4-9f33-467a917fc1bb",
   "metadata": {},
   "outputs": [
    {
     "data": {
      "text/plain": [
       "9"
      ]
     },
     "execution_count": 14,
     "metadata": {},
     "output_type": "execute_result"
    }
   ],
   "source": [
    "# exponential\n",
    "3**2"
   ]
  },
  {
   "cell_type": "code",
   "execution_count": 15,
   "id": "4d75fea8-23e1-4208-b8b3-15fce09d3519",
   "metadata": {},
   "outputs": [
    {
     "data": {
      "text/plain": [
       "0"
      ]
     },
     "execution_count": 15,
     "metadata": {},
     "output_type": "execute_result"
    }
   ],
   "source": [
    "# returns the remainder after the division\n",
    "54%3"
   ]
  },
  {
   "cell_type": "markdown",
   "id": "1100595b-14ae-4db0-aab1-72431ae24131",
   "metadata": {},
   "source": [
    "<br>"
   ]
  },
  {
   "cell_type": "markdown",
   "id": "2e022a47-e775-4292-8b30-1672479bcbc7",
   "metadata": {},
   "source": [
    "## Logical operations"
   ]
  },
  {
   "cell_type": "code",
   "execution_count": 20,
   "id": "7b06b93f-9031-400f-9001-922ef99a4384",
   "metadata": {},
   "outputs": [
    {
     "name": "stdout",
     "output_type": "stream",
     "text": [
      "False\n",
      "True\n"
     ]
    }
   ],
   "source": [
    "a = True\n",
    "b = False\n",
    "\n",
    "print(a and b)\n",
    "print(a or b)"
   ]
  },
  {
   "cell_type": "code",
   "execution_count": 22,
   "id": "052d2fb3-df9e-4cab-ade5-7ae729670dcf",
   "metadata": {},
   "outputs": [
    {
     "name": "stdout",
     "output_type": "stream",
     "text": [
      "False\n",
      "True\n"
     ]
    }
   ],
   "source": [
    "print(not a)\n",
    "print(not b)"
   ]
  },
  {
   "cell_type": "markdown",
   "id": "4e1c626d-3f52-4ecb-b05e-0082100c5277",
   "metadata": {},
   "source": [
    "<br>"
   ]
  },
  {
   "cell_type": "markdown",
   "id": "e3d76670-7d53-4ca4-aabd-dd665c35f615",
   "metadata": {},
   "source": [
    "## Comparison operators\n",
    "== , Equal to : True if both the operands are equal. <br>\n",
    "!= , Not equal to : True if operands are not equal. <br>\n",
    "'>' , Greater than. <br>\n",
    "'<' , Less than. <br>\n",
    "'>=' , Greater than or equal to <br>\n",
    "'<=' , Less than or equal to"
   ]
  },
  {
   "cell_type": "markdown",
   "id": "f69199ce-f15f-4e62-9ff4-0cdbb26667b9",
   "metadata": {},
   "source": [
    "<br>"
   ]
  },
  {
   "cell_type": "markdown",
   "id": "313c87c6-9dbc-4005-bda6-f09bb702ec09",
   "metadata": {},
   "source": [
    "## Assignment operators"
   ]
  },
  {
   "cell_type": "code",
   "execution_count": 25,
   "id": "fc9eabfb-172e-4029-b20e-2ab19964b120",
   "metadata": {},
   "outputs": [
    {
     "name": "stdout",
     "output_type": "stream",
     "text": [
      "3\n"
     ]
    }
   ],
   "source": [
    "a = 2\n",
    "b = 1\n",
    "a+=b\n",
    "# this will do a = a + b\n",
    "print(a)"
   ]
  },
  {
   "cell_type": "code",
   "execution_count": 29,
   "id": "510a5795-1a3a-4f9c-8467-a684825055c8",
   "metadata": {},
   "outputs": [
    {
     "name": "stdout",
     "output_type": "stream",
     "text": [
      "3\n"
     ]
    }
   ],
   "source": [
    "a = 5\n",
    "b = 2\n",
    "a-=b # this is equal to a = a - b\n",
    "print(a)"
   ]
  },
  {
   "cell_type": "code",
   "execution_count": 30,
   "id": "56bd93fd-e91a-4b29-86fc-d6ef067449e8",
   "metadata": {},
   "outputs": [
    {
     "name": "stdout",
     "output_type": "stream",
     "text": [
      "6\n"
     ]
    }
   ],
   "source": [
    "a = 3\n",
    "b = 2\n",
    "a *= b # this is equal to a = a * b\n",
    "print(a)"
   ]
  },
  {
   "cell_type": "code",
   "execution_count": 32,
   "id": "9af04069-05db-4af3-947a-da2dbede72d4",
   "metadata": {},
   "outputs": [
    {
     "name": "stdout",
     "output_type": "stream",
     "text": [
      "6.0\n"
     ]
    }
   ],
   "source": [
    "a = 42\n",
    "b = 7\n",
    "a/=b # this is equal to a = a / b\n",
    "print(a)"
   ]
  },
  {
   "cell_type": "code",
   "execution_count": 35,
   "id": "1a9e03fa-ca87-4348-8f38-402fc45474be",
   "metadata": {},
   "outputs": [
    {
     "name": "stdout",
     "output_type": "stream",
     "text": [
      "1\n"
     ]
    }
   ],
   "source": [
    "a = 21\n",
    "b = 12\n",
    "a//=b # this is equal to a = a//b\n",
    "print(a)"
   ]
  },
  {
   "cell_type": "code",
   "execution_count": 36,
   "id": "3b40e8fd-9aba-465c-bbc0-50ae2d68b5b4",
   "metadata": {},
   "outputs": [
    {
     "name": "stdout",
     "output_type": "stream",
     "text": [
      "9\n"
     ]
    }
   ],
   "source": [
    "a = 3\n",
    "b = 2\n",
    "a **= b # this is equal to a = a**b\n",
    "print(a)"
   ]
  },
  {
   "cell_type": "code",
   "execution_count": 37,
   "id": "6b3a60da-991d-49e3-a788-46d92c7bc515",
   "metadata": {},
   "outputs": [
    {
     "name": "stdout",
     "output_type": "stream",
     "text": [
      "0\n"
     ]
    }
   ],
   "source": [
    "a = 12\n",
    "b = 4\n",
    "a %= b # this is equal to a = a % b\n",
    "print(a)"
   ]
  },
  {
   "cell_type": "markdown",
   "id": "408903a5-ef99-45ab-be30-0a4949c87a16",
   "metadata": {},
   "source": [
    "## Special operators\n",
    "* Identity operators : `is` and the `is not` operators\n",
    "* Membership operators : `in` and `not in` operators."
   ]
  },
  {
   "cell_type": "code",
   "execution_count": 38,
   "id": "e62e10cd-b65c-4b01-a950-6d6f72218c32",
   "metadata": {},
   "outputs": [
    {
     "name": "stdout",
     "output_type": "stream",
     "text": [
      "True\n",
      "False\n"
     ]
    }
   ],
   "source": [
    "a = 1001\n",
    "b = 1000 + 1\n",
    "\n",
    "print(a==b)\n",
    "print(a is b)"
   ]
  },
  {
   "cell_type": "code",
   "execution_count": 39,
   "id": "286451b9-67c5-4655-9b8c-e240c769c5b0",
   "metadata": {},
   "outputs": [
    {
     "data": {
      "text/plain": [
       "True"
      ]
     },
     "execution_count": 39,
     "metadata": {},
     "output_type": "execute_result"
    }
   ],
   "source": [
    "a = [1,2,3,4]\n",
    "\n",
    "3 in a"
   ]
  },
  {
   "cell_type": "code",
   "execution_count": 40,
   "id": "0afeacce-3244-4b21-a60e-8f394f316b56",
   "metadata": {},
   "outputs": [
    {
     "data": {
      "text/plain": [
       "False"
      ]
     },
     "execution_count": 40,
     "metadata": {},
     "output_type": "execute_result"
    }
   ],
   "source": [
    "6 in a"
   ]
  },
  {
   "cell_type": "markdown",
   "id": "6f3585ed-b5fe-4466-9abe-5286bc3f4951",
   "metadata": {},
   "source": [
    "<br>"
   ]
  },
  {
   "cell_type": "markdown",
   "id": "0b89b981-c7fc-44e7-b2c3-08969e3d9ced",
   "metadata": {},
   "source": [
    "## Some Math Function in Python"
   ]
  },
  {
   "cell_type": "markdown",
   "id": "66c92074-2a22-4edd-b2de-5c50e2fa8460",
   "metadata": {},
   "source": [
    "Math module in Python. The Math module comes packaged in python so you don't have to install it. All you have to do is import it."
   ]
  },
  {
   "cell_type": "code",
   "execution_count": 41,
   "id": "51a58d03-6288-49ec-bb18-2165f4e0d5d4",
   "metadata": {},
   "outputs": [],
   "source": [
    "import math"
   ]
  },
  {
   "cell_type": "markdown",
   "id": "67fb6462-cba0-41c8-95bd-bd69b02de25c",
   "metadata": {},
   "source": [
    "Constants of math module <br>\n",
    "* Pi\n",
    "* Tau\n",
    "* Euler's number\n",
    "* NaN (not a number)\n",
    "* Infinity"
   ]
  },
  {
   "cell_type": "code",
   "execution_count": 43,
   "id": "b7d13180-4824-4b50-a01e-a14d757ceb99",
   "metadata": {},
   "outputs": [
    {
     "data": {
      "text/plain": [
       "3.141592653589793"
      ]
     },
     "execution_count": 43,
     "metadata": {},
     "output_type": "execute_result"
    }
   ],
   "source": [
    "# pi is the ratio of a circle's circumference to its diameter\n",
    "math.pi"
   ]
  },
  {
   "cell_type": "code",
   "execution_count": 45,
   "id": "f15fe626-dd47-4af1-9b43-624a3f7acd82",
   "metadata": {},
   "outputs": [
    {
     "data": {
      "text/plain": [
       "6.283185307179586"
      ]
     },
     "execution_count": 45,
     "metadata": {},
     "output_type": "execute_result"
    }
   ],
   "source": [
    "# tau is the ratio of a circle's circumference to its radius. The value is 2pi\n",
    "math.tau"
   ]
  },
  {
   "cell_type": "code",
   "execution_count": 48,
   "id": "bee14e05-96b8-4833-b1ef-12e0d2122188",
   "metadata": {},
   "outputs": [
    {
     "data": {
      "text/plain": [
       "2.718281828459045"
      ]
     },
     "execution_count": 48,
     "metadata": {},
     "output_type": "execute_result"
    }
   ],
   "source": [
    "# it is the base of the natural logarithm\n",
    "math.e"
   ]
  },
  {
   "cell_type": "code",
   "execution_count": 51,
   "id": "1ac9cd6e-87d6-4da9-8d07-3c650c7ababa",
   "metadata": {},
   "outputs": [
    {
     "data": {
      "text/plain": [
       "inf"
      ]
     },
     "execution_count": 51,
     "metadata": {},
     "output_type": "execute_result"
    }
   ],
   "source": [
    "# it represents something that is never ending or boundless\n",
    "math.inf"
   ]
  },
  {
   "cell_type": "code",
   "execution_count": 53,
   "id": "429b6e97-854d-4ab4-ad8e-756849112b58",
   "metadata": {},
   "outputs": [
    {
     "data": {
      "text/plain": [
       "float"
      ]
     },
     "execution_count": 53,
     "metadata": {},
     "output_type": "execute_result"
    }
   ],
   "source": [
    "type(math.inf)"
   ]
  },
  {
   "cell_type": "code",
   "execution_count": 55,
   "id": "5b08f245-9676-4eb4-9d1c-7b81c0c61706",
   "metadata": {},
   "outputs": [
    {
     "data": {
      "text/plain": [
       "nan"
      ]
     },
     "execution_count": 55,
     "metadata": {},
     "output_type": "execute_result"
    }
   ],
   "source": [
    "# NaN isn't a mathematical concept. A NaN value can be due to invalid inputs\n",
    "math.nan"
   ]
  },
  {
   "cell_type": "markdown",
   "id": "0fd84f3f-1d3b-4da2-90c4-eb1de71b9ad0",
   "metadata": {},
   "source": [
    "## Arithmetic functions\n",
    "* Factorials\n",
    "* Ceiling\n",
    "* Floor\n",
    "* Truncate numbers\n",
    "* Permutations\n",
    "* Greatest Common Divisor\n",
    "* Least Common Multiple"
   ]
  },
  {
   "cell_type": "markdown",
   "id": "c8a7beee-5afc-4cd5-8252-d722b41ddbd6",
   "metadata": {},
   "source": [
    "<br>"
   ]
  },
  {
   "cell_type": "markdown",
   "id": "b43b722e-a7c8-4a8e-a05b-742616657e89",
   "metadata": {},
   "source": [
    "**Factorials**"
   ]
  },
  {
   "cell_type": "code",
   "execution_count": 7,
   "id": "20a3ad20-408d-450a-a783-a2cbb14b369e",
   "metadata": {},
   "outputs": [
    {
     "data": {
      "text/plain": [
       "120"
      ]
     },
     "execution_count": 7,
     "metadata": {},
     "output_type": "execute_result"
    }
   ],
   "source": [
    "import math\n",
    "math.factorial(5)\n",
    "\n",
    "# factorial of number 5 is 5*4*3*2*1."
   ]
  },
  {
   "cell_type": "code",
   "execution_count": 5,
   "id": "e97e3736-7bca-4dc9-abef-dbb026daced4",
   "metadata": {},
   "outputs": [
    {
     "ename": "ValueError",
     "evalue": "factorial() not defined for negative values",
     "output_type": "error",
     "traceback": [
      "\u001b[1;31m---------------------------------------------------------------------------\u001b[0m",
      "\u001b[1;31mValueError\u001b[0m                                Traceback (most recent call last)",
      "\u001b[1;32mC:\\Users\\PREETA~1\\AppData\\Local\\Temp/ipykernel_6412/2640846031.py\u001b[0m in \u001b[0;36m<module>\u001b[1;34m\u001b[0m\n\u001b[1;32m----> 1\u001b[1;33m \u001b[0mmath\u001b[0m\u001b[1;33m.\u001b[0m\u001b[0mfactorial\u001b[0m\u001b[1;33m(\u001b[0m\u001b[1;33m-\u001b[0m\u001b[1;36m1\u001b[0m\u001b[1;33m)\u001b[0m\u001b[1;33m\u001b[0m\u001b[1;33m\u001b[0m\u001b[0m\n\u001b[0m",
      "\u001b[1;31mValueError\u001b[0m: factorial() not defined for negative values"
     ]
    }
   ],
   "source": [
    "math.factorial(-1)"
   ]
  },
  {
   "cell_type": "markdown",
   "id": "ea52d9a1-f594-4953-90fe-91c82af01a42",
   "metadata": {},
   "source": [
    "Factorials are not defined for negative numbers."
   ]
  },
  {
   "cell_type": "code",
   "execution_count": 6,
   "id": "1d03b2e8-8e2e-44b8-b9ea-1c0e8a36c88d",
   "metadata": {},
   "outputs": [
    {
     "name": "stderr",
     "output_type": "stream",
     "text": [
      "C:\\Users\\PREETA~1\\AppData\\Local\\Temp/ipykernel_6412/2970943325.py:1: DeprecationWarning: Using factorial() with floats is deprecated\n",
      "  math.factorial(5.0)\n"
     ]
    },
    {
     "data": {
      "text/plain": [
       "120"
      ]
     },
     "execution_count": 6,
     "metadata": {},
     "output_type": "execute_result"
    }
   ],
   "source": [
    "math.factorial(5.0)"
   ]
  },
  {
   "cell_type": "markdown",
   "id": "a76bb515-e053-42c3-bef4-a22803bd7524",
   "metadata": {},
   "source": [
    "<br>"
   ]
  },
  {
   "cell_type": "markdown",
   "id": "84171b36-811d-4391-a2a8-9b3663f6e2c3",
   "metadata": {},
   "source": [
    "**Ceiling** <br>\n",
    "Gives the smallest integral number greater than or equal to the given number"
   ]
  },
  {
   "cell_type": "code",
   "execution_count": 8,
   "id": "0564a0af-53aa-4876-9226-22d90606c8ec",
   "metadata": {},
   "outputs": [
    {
     "data": {
      "text/plain": [
       "5"
      ]
     },
     "execution_count": 8,
     "metadata": {},
     "output_type": "execute_result"
    }
   ],
   "source": [
    "math.ceil(4.4)"
   ]
  },
  {
   "cell_type": "markdown",
   "id": "abd359f2-8201-432d-bbf8-4978962f4fd8",
   "metadata": {},
   "source": [
    "<br>"
   ]
  },
  {
   "cell_type": "markdown",
   "id": "3d34dad2-1ccd-4704-afcf-552e43eda6c7",
   "metadata": {},
   "source": [
    "**Flooring**"
   ]
  },
  {
   "cell_type": "code",
   "execution_count": 9,
   "id": "d05d1eb6-297a-4db8-aa5b-58f698911372",
   "metadata": {},
   "outputs": [
    {
     "data": {
      "text/plain": [
       "3"
      ]
     },
     "execution_count": 9,
     "metadata": {},
     "output_type": "execute_result"
    }
   ],
   "source": [
    "math.floor(3.2)"
   ]
  },
  {
   "cell_type": "markdown",
   "id": "fb141f34-b126-4113-8d7e-10566aba450a",
   "metadata": {},
   "source": [
    "<br>"
   ]
  },
  {
   "cell_type": "markdown",
   "id": "33f4aaae-76a3-49a0-8290-661c8906e764",
   "metadata": {},
   "source": [
    "**truncate**"
   ]
  },
  {
   "cell_type": "code",
   "execution_count": 12,
   "id": "5a815cc2-6620-4fc9-a949-04e6e63e47d5",
   "metadata": {},
   "outputs": [
    {
     "data": {
      "text/plain": [
       "5"
      ]
     },
     "execution_count": 12,
     "metadata": {},
     "output_type": "execute_result"
    }
   ],
   "source": [
    "# truncating will return the integral value of the given float number\n",
    "math.trunc(5.4)"
   ]
  },
  {
   "cell_type": "markdown",
   "id": "4cf41651-7f41-413d-b8f6-710c0af0ad51",
   "metadata": {},
   "source": [
    "<br>"
   ]
  },
  {
   "cell_type": "markdown",
   "id": "ab3e97bf-dcd5-4ad4-998e-a16860199fb3",
   "metadata": {},
   "source": [
    "**Permutation**"
   ]
  },
  {
   "cell_type": "code",
   "execution_count": 13,
   "id": "8c038860-702f-45a7-9eb7-2aef7079d380",
   "metadata": {},
   "outputs": [
    {
     "data": {
      "text/plain": [
       "4"
      ]
     },
     "execution_count": 13,
     "metadata": {},
     "output_type": "execute_result"
    }
   ],
   "source": [
    "math.perm(4,1)"
   ]
  },
  {
   "cell_type": "code",
   "execution_count": 14,
   "id": "154cc975-3543-4a9f-924f-46fe3130d1a4",
   "metadata": {},
   "outputs": [
    {
     "data": {
      "text/plain": [
       "720"
      ]
     },
     "execution_count": 14,
     "metadata": {},
     "output_type": "execute_result"
    }
   ],
   "source": [
    "math.perm(10,3)"
   ]
  },
  {
   "cell_type": "markdown",
   "id": "6452356c-c3c6-4037-843e-ac8b879c011e",
   "metadata": {},
   "source": [
    "Note : the second parameter in the perm function has to be smaller than the first parameter."
   ]
  },
  {
   "cell_type": "markdown",
   "id": "42222424-cf95-4529-9ebe-275581cb0299",
   "metadata": {},
   "source": [
    "<br>"
   ]
  },
  {
   "cell_type": "markdown",
   "id": "490f1d53-52b4-40eb-9f30-71935e88493b",
   "metadata": {},
   "source": [
    "**combination function**"
   ]
  },
  {
   "cell_type": "code",
   "execution_count": 15,
   "id": "c061c988-c026-4db3-8438-2887e0ec3ba2",
   "metadata": {},
   "outputs": [
    {
     "data": {
      "text/plain": [
       "6"
      ]
     },
     "execution_count": 15,
     "metadata": {},
     "output_type": "execute_result"
    }
   ],
   "source": [
    "math.comb(4,2)"
   ]
  },
  {
   "cell_type": "markdown",
   "id": "d02e8f5d-271d-4993-a440-f0af95d94bca",
   "metadata": {},
   "source": [
    "<br>"
   ]
  },
  {
   "cell_type": "markdown",
   "id": "584a4a1c-2624-40bb-a24c-601c5aa5885b",
   "metadata": {},
   "source": [
    "**greatest common divisor**"
   ]
  },
  {
   "cell_type": "code",
   "execution_count": 16,
   "id": "9b985ceb-684b-4763-a2ef-d5a4c2b1f18d",
   "metadata": {},
   "outputs": [
    {
     "data": {
      "text/plain": [
       "1"
      ]
     },
     "execution_count": 16,
     "metadata": {},
     "output_type": "execute_result"
    }
   ],
   "source": [
    "math.gcd(10,5,14)"
   ]
  },
  {
   "cell_type": "markdown",
   "id": "ba20eb91-b3a2-41f1-85d2-ee6ddda93130",
   "metadata": {},
   "source": [
    "<br>"
   ]
  },
  {
   "cell_type": "markdown",
   "id": "9a688b84-cab1-4458-add6-2bcf5e89f88e",
   "metadata": {},
   "source": [
    "**lowest common multiple**"
   ]
  },
  {
   "cell_type": "code",
   "execution_count": 18,
   "id": "ce97642a-6cc1-4998-afce-c5ae3940f9c4",
   "metadata": {},
   "outputs": [
    {
     "data": {
      "text/plain": [
       "20"
      ]
     },
     "execution_count": 18,
     "metadata": {},
     "output_type": "execute_result"
    }
   ],
   "source": [
    "math.lcm(2,4,5)"
   ]
  },
  {
   "cell_type": "markdown",
   "id": "0b1a497c-e848-4050-8b32-c4e231c13daa",
   "metadata": {},
   "source": [
    "<br>"
   ]
  },
  {
   "cell_type": "markdown",
   "id": "c06f0dfa-d73b-42d8-bd59-3ce72b372f04",
   "metadata": {},
   "source": [
    "<br>"
   ]
  },
  {
   "cell_type": "markdown",
   "id": "ce0079c2-cc4d-4db7-a9b8-26341bacf9e8",
   "metadata": {},
   "source": [
    "# Power and logarithmic functions\n",
    "* Power function\n",
    "* Exponential function\n",
    "* Logarithmic function\n",
    "* Square root function"
   ]
  },
  {
   "cell_type": "markdown",
   "id": "252fa84e-9702-4a3a-85a1-e2c94cf4066c",
   "metadata": {},
   "source": [
    "Power function"
   ]
  },
  {
   "cell_type": "code",
   "execution_count": 19,
   "id": "c28ccee6-2ec6-452e-9815-31c1c6eb4268",
   "metadata": {},
   "outputs": [
    {
     "data": {
      "text/plain": [
       "8.0"
      ]
     },
     "execution_count": 19,
     "metadata": {},
     "output_type": "execute_result"
    }
   ],
   "source": [
    "math.pow(2,3)"
   ]
  },
  {
   "cell_type": "markdown",
   "id": "781a23d7-b51e-4e1f-9e93-59f0962e73c1",
   "metadata": {},
   "source": [
    "Exponential function"
   ]
  },
  {
   "cell_type": "code",
   "execution_count": 20,
   "id": "7158a301-2289-49b0-85fa-c7c472a848fd",
   "metadata": {},
   "outputs": [
    {
     "data": {
      "text/plain": [
       "20.085536923187668"
      ]
     },
     "execution_count": 20,
     "metadata": {},
     "output_type": "execute_result"
    }
   ],
   "source": [
    "math.exp(3)\n",
    "# What this does is it computes the value of e to the power of 3"
   ]
  },
  {
   "cell_type": "markdown",
   "id": "bab542d5-e7bb-400a-b078-328216b45884",
   "metadata": {},
   "source": [
    "logarithmic function"
   ]
  },
  {
   "cell_type": "code",
   "execution_count": 21,
   "id": "dee87fae-ffb6-4588-bd20-55c4d5910904",
   "metadata": {},
   "outputs": [
    {
     "data": {
      "text/plain": [
       "1.0986122886681098"
      ]
     },
     "execution_count": 21,
     "metadata": {},
     "output_type": "execute_result"
    }
   ],
   "source": [
    "math.log(3)"
   ]
  },
  {
   "cell_type": "code",
   "execution_count": 22,
   "id": "126d1417-9e77-4362-83fc-190a5f7e120a",
   "metadata": {},
   "outputs": [
    {
     "data": {
      "text/plain": [
       "2.0"
      ]
     },
     "execution_count": 22,
     "metadata": {},
     "output_type": "execute_result"
    }
   ],
   "source": [
    "math.log(25,5)"
   ]
  },
  {
   "cell_type": "markdown",
   "id": "3b6403c2-2b83-4eed-b12b-9ca7d1d80c7a",
   "metadata": {},
   "source": [
    "Sqaure root function"
   ]
  },
  {
   "cell_type": "code",
   "execution_count": 24,
   "id": "9f2aecca-8576-4491-9900-b0fd98c4064f",
   "metadata": {},
   "outputs": [
    {
     "data": {
      "text/plain": [
       "2.0"
      ]
     },
     "execution_count": 24,
     "metadata": {},
     "output_type": "execute_result"
    }
   ],
   "source": [
    "math.sqrt(4)"
   ]
  },
  {
   "cell_type": "markdown",
   "id": "055a469a-d4dd-4af7-a83c-04d9d3c21f46",
   "metadata": {},
   "source": [
    "<br>"
   ]
  },
  {
   "cell_type": "markdown",
   "id": "a0a26233-d435-48ca-b7f5-0da7514488cd",
   "metadata": {},
   "source": [
    "<br>"
   ]
  },
  {
   "cell_type": "markdown",
   "id": "eb214549-b38c-40b1-8e3a-988f8ee24c93",
   "metadata": {},
   "source": [
    "## Trigonometric function"
   ]
  },
  {
   "cell_type": "markdown",
   "id": "7e0729fc-30de-4c4c-a37e-a35c41854127",
   "metadata": {},
   "source": [
    "* sin\n",
    "* cosine\n",
    "* tan\n",
    "* arcsin\n",
    "* arccosine\n",
    "* arctan"
   ]
  },
  {
   "cell_type": "markdown",
   "id": "c9520858-0aaf-47b3-b031-258a1faf54c6",
   "metadata": {},
   "source": [
    "<br>"
   ]
  },
  {
   "cell_type": "markdown",
   "id": "304018c4-ee0f-4415-ae34-c7bbcde04160",
   "metadata": {},
   "source": [
    "## Hyperbolic function\n",
    "* hyperbolic sine\n",
    "* hyperbolic cosine\n",
    "* hyperbolic tan\n",
    "* hyperbolic inverse tan\n",
    "* hyperbolic cosine\n",
    "* hyperbolic sine"
   ]
  },
  {
   "cell_type": "markdown",
   "id": "7a02f943-2a7e-4d60-8a17-85b61417b461",
   "metadata": {},
   "source": [
    "<br>"
   ]
  }
 ],
 "metadata": {
  "kernelspec": {
   "display_name": "Python 3 (ipykernel)",
   "language": "python",
   "name": "python3"
  },
  "language_info": {
   "codemirror_mode": {
    "name": "ipython",
    "version": 3
   },
   "file_extension": ".py",
   "mimetype": "text/x-python",
   "name": "python",
   "nbconvert_exporter": "python",
   "pygments_lexer": "ipython3",
   "version": "3.9.7"
  }
 },
 "nbformat": 4,
 "nbformat_minor": 5
}
