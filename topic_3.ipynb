{
 "cells": [
  {
   "cell_type": "markdown",
   "id": "1f026343-ae68-42c8-ab00-e20a6d29300c",
   "metadata": {},
   "source": [
    "# Dictionaries \n",
    "Dictionaries are another type of composite data type and are a collection of objects like lists and tuples."
   ]
  },
  {
   "cell_type": "markdown",
   "id": "55e70f1b-97f4-477b-995c-71bd8c267ae4",
   "metadata": {},
   "source": [
    "* Dynamic\n",
    "* Mutable\n",
    "* can be nested\n",
    "\n",
    "**Note** : Dictionaries are unordered."
   ]
  },
  {
   "cell_type": "code",
   "execution_count": 1,
   "id": "88da8940-0cd5-4234-b4d7-70def9a7a221",
   "metadata": {},
   "outputs": [
    {
     "name": "stdout",
     "output_type": "stream",
     "text": [
      "{'name': 'Harry', 'age': 21, 'sex': 'male'}\n"
     ]
    }
   ],
   "source": [
    "person = {\n",
    "    'name' : 'Harry',\n",
    "    'age' : 21,\n",
    "    'sex' : 'male'\n",
    "}\n",
    "print(person)"
   ]
  },
  {
   "cell_type": "markdown",
   "id": "7d70d1f0-13f7-4f7c-a59d-9d587399d165",
   "metadata": {},
   "source": [
    "A dictionary is collection of key value pairs. In the above example, name, age and sex are keys and Harry, 21 and male are the corresponding values."
   ]
  },
  {
   "cell_type": "markdown",
   "id": "8894eae9-9337-465c-be13-579a72633b34",
   "metadata": {},
   "source": [
    "<br>"
   ]
  },
  {
   "cell_type": "markdown",
   "id": "164d3505-5553-4078-b728-b0b732d192a0",
   "metadata": {},
   "source": [
    "The use of **dic()** function to define a dictionary."
   ]
  },
  {
   "cell_type": "code",
   "execution_count": 2,
   "id": "23304603-cd58-4e84-8e5e-2c5192f9ca56",
   "metadata": {},
   "outputs": [
    {
     "name": "stdout",
     "output_type": "stream",
     "text": [
      "{'name': 'Rhodie', 'age': 21}\n"
     ]
    }
   ],
   "source": [
    "a = dict([('name','Rhodie'), ('age', 21)])\n",
    "print(a)"
   ]
  },
  {
   "cell_type": "markdown",
   "id": "1e798985-24b8-448e-86ef-f41908d5d1d9",
   "metadata": {},
   "source": [
    "Note : If you use same keys, the value corresponding to the last key defined will be considered."
   ]
  },
  {
   "cell_type": "markdown",
   "id": "33981e2b-ce52-4a25-9b6e-fccbbd3609d9",
   "metadata": {},
   "source": [
    "<br>"
   ]
  },
  {
   "cell_type": "markdown",
   "id": "05e1ae79-9e9d-4af1-8c40-80ce77175cfb",
   "metadata": {},
   "source": [
    "## Dictionary operations and functions"
   ]
  },
  {
   "cell_type": "markdown",
   "id": "38f182dd-6385-43c6-a7d7-4112e9981e10",
   "metadata": {},
   "source": [
    "Using keys"
   ]
  },
  {
   "cell_type": "code",
   "execution_count": 5,
   "id": "e36a7b00-8861-4ccb-82ba-f3bbd453d859",
   "metadata": {},
   "outputs": [
    {
     "name": "stdout",
     "output_type": "stream",
     "text": [
      "1\n",
      "3\n"
     ]
    }
   ],
   "source": [
    "a = {\n",
    "    'r': 1,\n",
    "    's':2,\n",
    "    'u':3\n",
    "}\n",
    "\n",
    "print(a['r'])\n",
    "print(a['u'])"
   ]
  },
  {
   "cell_type": "markdown",
   "id": "99e9c6de-eaa5-4a57-b9d4-d5c3f038b0e3",
   "metadata": {},
   "source": [
    "We can change the value of a particular key in the following way : "
   ]
  },
  {
   "cell_type": "code",
   "execution_count": 6,
   "id": "13f3731f-2c56-498b-a423-857e7fbf4871",
   "metadata": {},
   "outputs": [
    {
     "name": "stdout",
     "output_type": "stream",
     "text": [
      "{'r': 1, 's': 100, 'u': 3}\n"
     ]
    }
   ],
   "source": [
    "a['s'] = 100\n",
    "print(a)"
   ]
  },
  {
   "cell_type": "markdown",
   "id": "d218073b-745f-4f19-b4ef-188e97d13b12",
   "metadata": {},
   "source": [
    "<br>"
   ]
  },
  {
   "cell_type": "markdown",
   "id": "63f1a04c-1eb8-4ed8-89ba-743a08013fe2",
   "metadata": {},
   "source": [
    "To add a new key value pair, we can do it the following way :"
   ]
  },
  {
   "cell_type": "code",
   "execution_count": 7,
   "id": "c6e9ad24-a2ba-4f39-af9e-a765499a77d2",
   "metadata": {},
   "outputs": [
    {
     "name": "stdout",
     "output_type": "stream",
     "text": [
      "{'r': 1, 's': 100, 'u': 3, 't': '21'}\n"
     ]
    }
   ],
   "source": [
    "a['t'] = '21'\n",
    "print(a)"
   ]
  },
  {
   "cell_type": "markdown",
   "id": "abd61ae4-1bc9-4b56-ae84-62f73a315bcb",
   "metadata": {},
   "source": [
    "<br>"
   ]
  },
  {
   "cell_type": "markdown",
   "id": "06f18182-43d8-406d-8277-d4f1270d01c0",
   "metadata": {},
   "source": [
    "We can del a particular key value pair in a dictionary using the del command as shown below :"
   ]
  },
  {
   "cell_type": "code",
   "execution_count": 8,
   "id": "ef74a5d1-180f-4be5-a534-0d6e1c60706e",
   "metadata": {},
   "outputs": [
    {
     "name": "stdout",
     "output_type": "stream",
     "text": [
      "{'s': 100, 'u': 3, 't': '21'}\n"
     ]
    }
   ],
   "source": [
    "del a['r']\n",
    "print(a)"
   ]
  },
  {
   "cell_type": "markdown",
   "id": "9b3c8b45-d72a-4164-9482-f889cfa62b72",
   "metadata": {},
   "source": [
    "<br>"
   ]
  },
  {
   "cell_type": "markdown",
   "id": "a1e0c082-504b-47a6-b2ec-5c59d415794f",
   "metadata": {},
   "source": [
    "## The get() function to retrieve values of keys"
   ]
  },
  {
   "cell_type": "code",
   "execution_count": 9,
   "id": "174187c8-38ff-4d08-bcc9-448e74a59842",
   "metadata": {},
   "outputs": [
    {
     "data": {
      "text/plain": [
       "100"
      ]
     },
     "execution_count": 9,
     "metadata": {},
     "output_type": "execute_result"
    }
   ],
   "source": [
    "a.get('s')"
   ]
  },
  {
   "cell_type": "markdown",
   "id": "679ac6a1-7989-42a0-b03a-fb25d6278628",
   "metadata": {},
   "source": [
    "<br>"
   ]
  },
  {
   "cell_type": "markdown",
   "id": "45496a80-d975-4317-807b-7e1767e9555f",
   "metadata": {},
   "source": [
    "## items() function"
   ]
  },
  {
   "cell_type": "code",
   "execution_count": 10,
   "id": "1ac8908c-a12e-41b3-bfc8-58cd8b26b6a6",
   "metadata": {},
   "outputs": [
    {
     "data": {
      "text/plain": [
       "dict_items([('s', 100), ('u', 3), ('t', '21')])"
      ]
     },
     "execution_count": 10,
     "metadata": {},
     "output_type": "execute_result"
    }
   ],
   "source": [
    "a.items()"
   ]
  },
  {
   "cell_type": "markdown",
   "id": "508ac51d-54fc-4e96-933e-c0d464ad665c",
   "metadata": {},
   "source": [
    "<br>"
   ]
  },
  {
   "cell_type": "markdown",
   "id": "5c603fad-6268-4f9f-9742-8bd8007d4fa1",
   "metadata": {},
   "source": [
    "## keys() function"
   ]
  },
  {
   "cell_type": "code",
   "execution_count": 11,
   "id": "5e665e45-33f7-4af9-97f0-dee4c54c472e",
   "metadata": {},
   "outputs": [
    {
     "data": {
      "text/plain": [
       "dict_keys(['s', 'u', 't'])"
      ]
     },
     "execution_count": 11,
     "metadata": {},
     "output_type": "execute_result"
    }
   ],
   "source": [
    "a.keys()"
   ]
  },
  {
   "cell_type": "markdown",
   "id": "369499a0-b5a4-4be9-b675-9b4a2693f00e",
   "metadata": {},
   "source": [
    "<br>"
   ]
  },
  {
   "cell_type": "markdown",
   "id": "09352c32-1eb7-4fee-8907-2f3271843ceb",
   "metadata": {},
   "source": [
    "## values() function "
   ]
  },
  {
   "cell_type": "code",
   "execution_count": 12,
   "id": "ba5d3e08-2b1e-41ff-8bbc-23889a883542",
   "metadata": {},
   "outputs": [
    {
     "data": {
      "text/plain": [
       "dict_values([100, 3, '21'])"
      ]
     },
     "execution_count": 12,
     "metadata": {},
     "output_type": "execute_result"
    }
   ],
   "source": [
    "a.values()"
   ]
  },
  {
   "cell_type": "markdown",
   "id": "e70792b0-7c68-4a18-82bc-e0f4e5939277",
   "metadata": {},
   "source": [
    "<br>"
   ]
  },
  {
   "cell_type": "code",
   "execution_count": 16,
   "id": "11597926-17e9-4e2b-81f1-10c41d6680b1",
   "metadata": {},
   "outputs": [
    {
     "data": {
      "text/plain": [
       "('u', 3)"
      ]
     },
     "execution_count": 16,
     "metadata": {},
     "output_type": "execute_result"
    }
   ],
   "source": [
    "# the popitem() function removes the last item of keys and values\n",
    "a.popitem()"
   ]
  },
  {
   "cell_type": "code",
   "execution_count": 15,
   "id": "a8ef9335-57db-4470-acdf-851dd02f95a8",
   "metadata": {},
   "outputs": [
    {
     "name": "stdout",
     "output_type": "stream",
     "text": [
      "{'s': 100, 'u': 3}\n"
     ]
    }
   ],
   "source": [
    "print(a)"
   ]
  },
  {
   "cell_type": "markdown",
   "id": "8f90773d-0165-4da3-9e8e-cdf32bb7a26d",
   "metadata": {},
   "source": [
    "<br>"
   ]
  },
  {
   "cell_type": "markdown",
   "id": "a4c52670-2653-4009-8736-03450209359d",
   "metadata": {},
   "source": [
    "## update() function : used to merge two dictionaries"
   ]
  },
  {
   "cell_type": "code",
   "execution_count": 19,
   "id": "6d32aa30-8f1e-43d2-ab7a-3b0daf3fc269",
   "metadata": {},
   "outputs": [
    {
     "name": "stdout",
     "output_type": "stream",
     "text": [
      "{'person1': 'Hari', 'person2': 'Reema'}\n"
     ]
    }
   ],
   "source": [
    "a = dict([('person1','Hari'),('person2','Reema')])\n",
    "print(a)\n",
    "\n",
    "b = dict([('age',21)])"
   ]
  }
 ],
 "metadata": {
  "kernelspec": {
   "display_name": "Python 3 (ipykernel)",
   "language": "python",
   "name": "python3"
  },
  "language_info": {
   "codemirror_mode": {
    "name": "ipython",
    "version": 3
   },
   "file_extension": ".py",
   "mimetype": "text/x-python",
   "name": "python",
   "nbconvert_exporter": "python",
   "pygments_lexer": "ipython3",
   "version": "3.9.7"
  }
 },
 "nbformat": 4,
 "nbformat_minor": 5
}
