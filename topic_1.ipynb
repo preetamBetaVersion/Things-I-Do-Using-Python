{
 "cells": [
  {
   "cell_type": "markdown",
   "id": "6da75ba0-31fb-4f4f-b565-b628d93f47c1",
   "metadata": {},
   "source": [
    "# Variables and expression <br>\n",
    "> Statement : A command to the computer to do a particular task. Eg : `print('Hello world!')` <br>\n"
   ]
  },
  {
   "cell_type": "markdown",
   "id": "7b922af2-1058-4778-a35e-eaec89b0370a",
   "metadata": {},
   "source": [
    "> Expression : In an expression, there is computation involved. Eg : `5+2`. The above returns a value after calculating the given command."
   ]
  },
  {
   "cell_type": "code",
   "execution_count": 8,
   "id": "0b291f4f-2427-469a-bfe1-ea7bef19a275",
   "metadata": {},
   "outputs": [
    {
     "name": "stdout",
     "output_type": "stream",
     "text": [
      "Hello world\n"
     ]
    }
   ],
   "source": [
    "# this is a statement\n",
    "print('Hello world')"
   ]
  },
  {
   "cell_type": "code",
   "execution_count": 5,
   "id": "67babeb9-fcb5-49ec-9fad-0d7ce99c1ffa",
   "metadata": {},
   "outputs": [
    {
     "data": {
      "text/plain": [
       "7"
      ]
     },
     "execution_count": 5,
     "metadata": {},
     "output_type": "execute_result"
    }
   ],
   "source": [
    "# this is an expression\n",
    "5+2"
   ]
  },
  {
   "cell_type": "markdown",
   "id": "d6917744-af56-4ebe-982d-999767976f21",
   "metadata": {},
   "source": [
    "# Variable naming convention\n",
    "* it is not allowed to start a variable name with a number<br>\n",
    "* names chosen are case sensitive<br>\n",
    "* one cannot use reserved words in namming a variable."
   ]
  },
  {
   "cell_type": "markdown",
   "id": "1ff36e8a-176b-47da-8dfd-e600815b12e6",
   "metadata": {},
   "source": [
    "<br>"
   ]
  },
  {
   "cell_type": "markdown",
   "id": "89059d6c-2f83-4ccf-a576-148562cfff19",
   "metadata": {},
   "source": [
    "**List of reserved words**"
   ]
  },
  {
   "cell_type": "markdown",
   "id": "d394a047-31e2-4290-af29-0b3645968b3e",
   "metadata": {},
   "source": [
    "<img src=\"images/reserved_words.png\">"
   ]
  },
  {
   "cell_type": "markdown",
   "id": "6f791a5d-a6b7-4570-b319-e8ac26128cae",
   "metadata": {},
   "source": [
    "<br>"
   ]
  },
  {
   "cell_type": "markdown",
   "id": "e1b2f579-1e22-4748-ade6-9e9a0af906dc",
   "metadata": {},
   "source": [
    "# Variable"
   ]
  },
  {
   "cell_type": "markdown",
   "id": "aad5d283-6762-4c60-a7fe-7abd7948e81a",
   "metadata": {},
   "source": [
    "A variable is a memory location. It jas a name that is associated with that location. The memory location is used to hold data."
   ]
  },
  {
   "cell_type": "code",
   "execution_count": 7,
   "id": "731c8ab0-a176-4fff-889e-d82fa52f9676",
   "metadata": {},
   "outputs": [
    {
     "name": "stdout",
     "output_type": "stream",
     "text": [
      "2413387541072\n",
      "2413387541072\n"
     ]
    }
   ],
   "source": [
    "x = 10\n",
    "y = 10\n",
    "\n",
    "print(id(x))\n",
    "print(id(y))"
   ]
  },
  {
   "cell_type": "markdown",
   "id": "6e000281-5546-41f0-86f9-8ce448bee726",
   "metadata": {},
   "source": [
    "We can see above that id of variable x and y are same because it is pointing towards the same memory location where the value 10 is stored. Therefore variables aren't objects because two different objects cannot have the same ids."
   ]
  },
  {
   "cell_type": "markdown",
   "id": "f43fb3f1-d232-4471-9d52-079829d435b0",
   "metadata": {},
   "source": [
    "<br>"
   ]
  },
  {
   "cell_type": "markdown",
   "id": "1ea9cad8-1b77-46de-a60c-025a5687bca9",
   "metadata": {},
   "source": [
    "**Note** : Any form of data that can be manipulated is called an object in python."
   ]
  },
  {
   "cell_type": "markdown",
   "id": "41cc4652-45ec-4aaa-afca-0e6a8dedb4cb",
   "metadata": {},
   "source": [
    "<br>"
   ]
  },
  {
   "cell_type": "markdown",
   "id": "18cd1b02-c465-4d4e-82cd-8fbfe5d0d417",
   "metadata": {},
   "source": [
    "# Python data types"
   ]
  },
  {
   "cell_type": "markdown",
   "id": "f6363aa4-7f22-4339-acbc-97aecf8efdc4",
   "metadata": {},
   "source": [
    "<img src=\"images/python_data_types.png\" width=\"500px\" height=\"auto\">"
   ]
  },
  {
   "cell_type": "markdown",
   "id": "585df638-bd97-40b0-a44b-fba675418875",
   "metadata": {},
   "source": [
    "<br>"
   ]
  },
  {
   "cell_type": "markdown",
   "id": "c5fa4476-2e7f-4712-9f18-431da4c6b51a",
   "metadata": {},
   "source": [
    "## There are three important properties that define an object :\n",
    "* Type<br>\n",
    "* Identity<br>\n",
    "* Value"
   ]
  },
  {
   "cell_type": "markdown",
   "id": "bbe89844-ea30-4a96-b16a-a9aece251cbf",
   "metadata": {},
   "source": [
    "<br>"
   ]
  },
  {
   "cell_type": "markdown",
   "id": "5df35283-a348-4e1d-8583-bd9e3c9ab0d2",
   "metadata": {},
   "source": [
    "**Identity** : can be considered to be the address in the memory where the object is stored. <br>\n",
    "**Type** : the **type()** returns the type of an object. <br>\n",
    "**Value** : data that is actually contained in the object."
   ]
  },
  {
   "cell_type": "markdown",
   "id": "18827fc2-4788-40b8-9e0a-e82d7b9c458c",
   "metadata": {},
   "source": [
    "<br>"
   ]
  },
  {
   "cell_type": "markdown",
   "id": "d159ab71-6b49-4b29-ab65-fe836838e68f",
   "metadata": {},
   "source": [
    "***Note** : We can convert int to a complex number but not vice versa.*"
   ]
  },
  {
   "cell_type": "markdown",
   "id": "cab66da2-f0c1-46ef-b3e4-943176435a1b",
   "metadata": {},
   "source": [
    "<br>"
   ]
  },
  {
   "cell_type": "markdown",
   "id": "16cd7e1d-94c9-4aac-913a-2e8483169131",
   "metadata": {},
   "source": [
    "# Type conversions\n",
    "**int()**  : to convert an object into an int data type. <br>\n",
    "**float()** : to convert an object into a float data type. <br>\n",
    "**str()** : to convert an object into a string data type."
   ]
  },
  {
   "cell_type": "code",
   "execution_count": 14,
   "id": "80cb46aa-6ec8-47c8-bc59-15b850b9425f",
   "metadata": {},
   "outputs": [
    {
     "name": "stdout",
     "output_type": "stream",
     "text": [
      "10.0\n",
      "10\n",
      "<class 'int'>\n",
      "<class 'float'>\n",
      "<class 'str'>\n"
     ]
    }
   ],
   "source": [
    "a = 10\n",
    "b = float(a)\n",
    "print(b)\n",
    "\n",
    "c = str(a)\n",
    "print(c)\n",
    "\n",
    "a is c\n",
    "\n",
    "print(type(a))\n",
    "print(type(b))\n",
    "print(type(c))"
   ]
  },
  {
   "cell_type": "markdown",
   "id": "363e277d-d2bc-4cd8-9b0c-27a2281bb666",
   "metadata": {},
   "source": [
    "<br>"
   ]
  },
  {
   "cell_type": "markdown",
   "id": "3f85cb82-4e02-4d01-bef7-a4e34f95cb12",
   "metadata": {},
   "source": [
    "## Some frequently used functions\n",
    "hex() : used to convert an integer into its hexadecimal equivalent <br>\n",
    "oct() : used to convert an integer into its octal equivalent. <br>\n",
    "complex() : to convert an integer into the complex form. <br>\n",
    "list() : to convert into a list. <br>\n",
    "tuple() : to convert into a tuple. <br>\n",
    "set() : to convert into a set. "
   ]
  },
  {
   "cell_type": "markdown",
   "id": "d2a89480-e8cf-4276-afd6-060c3ae769ca",
   "metadata": {},
   "source": [
    "<br>"
   ]
  },
  {
   "cell_type": "markdown",
   "id": "4847d32a-3947-4afa-9bab-4d30d72ca13c",
   "metadata": {},
   "source": [
    "# Difference between ordered and unordered"
   ]
  },
  {
   "cell_type": "markdown",
   "id": "6a520099-1bef-48eb-8283-78c42cfdb28a",
   "metadata": {},
   "source": [
    "In python, we have heard that lists, tuples and strings are ordered collection of objects while dictionaries and sets are unordered collection of objects."
   ]
  },
  {
   "cell_type": "code",
   "execution_count": 24,
   "id": "68e58c31-eb05-4017-94c4-fd957a82ead3",
   "metadata": {},
   "outputs": [
    {
     "name": "stdout",
     "output_type": "stream",
     "text": [
      "\n",
      "\n",
      "abcdefghijklmnopqrstuvwxyzABCDEFGHIJKLMNOPQRSTUVWXYZ\n",
      "\n",
      "\n",
      "['a', 'b', 'c', 'd', 'e', 'f', 'g', 'h', 'i', 'j', 'k', 'l', 'm', 'n', 'o', 'p', 'q', 'r', 's', 't', 'u', 'v', 'w', 'x', 'y', 'z', 'A', 'B', 'C', 'D', 'E', 'F', 'G', 'H', 'I', 'J', 'K', 'L', 'M', 'N', 'O', 'P', 'Q', 'R', 'S', 'T', 'U', 'V', 'W', 'X', 'Y', 'Z']\n",
      "\n",
      "\n",
      "('a', 'b', 'c', 'd', 'e', 'f', 'g', 'h', 'i', 'j', 'k', 'l', 'm', 'n', 'o', 'p', 'q', 'r', 's', 't', 'u', 'v', 'w', 'x', 'y', 'z', 'A', 'B', 'C', 'D', 'E', 'F', 'G', 'H', 'I', 'J', 'K', 'L', 'M', 'N', 'O', 'P', 'Q', 'R', 'S', 'T', 'U', 'V', 'W', 'X', 'Y', 'Z')\n",
      "\n",
      "\n",
      "{'p', 't', 'T', 'q', 'u', 'M', 'Z', 'N', 'e', 'x', 'H', 'o', 'l', 'U', 'm', 'K', 'F', 'y', 'B', 'O', 'n', 'V', 'd', 'a', 'C', 'X', 'P', 'Y', 'D', 'z', 'I', 'G', 'L', 'c', 'b', 'r', 'Q', 'W', 'g', 'h', 'j', 'E', 'A', 'v', 'S', 'R', 'f', 'J', 'i', 'k', 'w', 's'}\n"
     ]
    }
   ],
   "source": [
    "letters = \"abcdefghijklmnopqrstuvwxyzABCDEFGHIJKLMNOPQRSTUVWXYZ\"\n",
    "string_letters = str(letters)\n",
    "lists_letters = list(letters)\n",
    "tuples_letters = tuple(letters)\n",
    "sets_letters = set(letters)\n",
    "\n",
    "print(\"\\n\")\n",
    "print(string_letters)\n",
    "print(\"\\n\")\n",
    "print(lists_letters)\n",
    "print(\"\\n\")\n",
    "print(tuples_letters)\n",
    "print(\"\\n\")\n",
    "print(sets_letters)"
   ]
  },
  {
   "cell_type": "markdown",
   "id": "774bc154-b687-4237-b393-490000586ed5",
   "metadata": {},
   "source": [
    "As you can see that in case of sets, the letters are not in an ordered form."
   ]
  },
  {
   "cell_type": "markdown",
   "id": "589c0197-dae4-4999-b5eb-f1714156ceaf",
   "metadata": {},
   "source": [
    "<br>"
   ]
  },
  {
   "cell_type": "code",
   "execution_count": 18,
   "id": "63d4b83e-b7d1-4d13-b4eb-0d2e5f9f9435",
   "metadata": {},
   "outputs": [
    {
     "name": "stdout",
     "output_type": "stream",
     "text": [
      "[1, 2, 3, 4, 5, 2, 4, 5]\n",
      "(1, 2, 3, 4, 5, 2, 4, 5)\n",
      "{1, 2, 3, 4, 5}\n"
     ]
    }
   ],
   "source": [
    "a = [1,2,3,4,5,2,4,5]\n",
    "print(a)\n",
    "\n",
    "b = tuple(a)\n",
    "print(b)\n",
    "\n",
    "c = set(a)\n",
    "print(c)"
   ]
  },
  {
   "cell_type": "markdown",
   "id": "5e84deb4-2673-4ddd-99e9-0be44767782d",
   "metadata": {},
   "source": [
    "<br>"
   ]
  },
  {
   "cell_type": "markdown",
   "id": "7a57a95a-1007-4ca4-8b98-7a85ae5271c0",
   "metadata": {},
   "source": [
    "# Difference between list, set and tuples\n",
    "> **lists** : need not be homogeneous, comma separated between square brackets, mutable, can store any type of element. <br>\n",
    "> **tuples** : collection of objects just like lists, can be of any type, values are separated by commas, data enclosed within parenthesis, immutable.<br>\n",
    "> **set** : unordered, no duplicate elements, mutable, defined under curly braces {}."
   ]
  },
  {
   "cell_type": "markdown",
   "id": "93f7dd6f-c58c-47e1-b917-0b04deba76f4",
   "metadata": {},
   "source": [
    "<br>"
   ]
  },
  {
   "cell_type": "markdown",
   "id": "76c8d93a-5687-4e64-ae4b-cfa925db00db",
   "metadata": {},
   "source": [
    "# Python strings"
   ]
  },
  {
   "cell_type": "markdown",
   "id": "8cf9fa96-a0af-4163-9832-34fa26422d82",
   "metadata": {},
   "source": [
    "Strings are object type which is used to store textual data. Strings is an object type in python which is a subtype of a broader classification of object types called **sequences**.<br>\n",
    "**Sequences** : objects that contain components placed one after the other, where each object is given a numeric index which identifies that component and its position within the whole sequence. As python is a zero indexed based language, the first object of any sequence is always indexed 0."
   ]
  },
  {
   "cell_type": "markdown",
   "id": "e4e65c79-8a58-4886-8ee8-ce5e7a42af38",
   "metadata": {},
   "source": [
    "## Some important functions"
   ]
  },
  {
   "cell_type": "markdown",
   "id": "53fdd86e-273a-4ac1-8869-bb2c1d8c02b6",
   "metadata": {},
   "source": [
    "**index()** : used to know the location of a particular character in a string."
   ]
  },
  {
   "cell_type": "code",
   "execution_count": 26,
   "id": "28d33adc-d73d-45c3-80d9-5c3606aef4cd",
   "metadata": {},
   "outputs": [
    {
     "name": "stdout",
     "output_type": "stream",
     "text": [
      "1\n"
     ]
    }
   ],
   "source": [
    "a = 'hello'\n",
    "b = a.index('e')\n",
    "print(b)"
   ]
  },
  {
   "cell_type": "markdown",
   "id": "0bdb0ce5-bc64-4c5d-a999-ab41eb0e0e8d",
   "metadata": {},
   "source": [
    "To access last character of a string"
   ]
  },
  {
   "cell_type": "code",
   "execution_count": 27,
   "id": "cbab3caf-c7ed-4028-8ced-379d69255338",
   "metadata": {},
   "outputs": [
    {
     "name": "stdout",
     "output_type": "stream",
     "text": [
      "o\n"
     ]
    }
   ],
   "source": [
    "a = 'hello'\n",
    "print(a[-1])"
   ]
  },
  {
   "cell_type": "markdown",
   "id": "df5146b6-fbb0-46a4-9b66-c3320da8b592",
   "metadata": {},
   "source": [
    "<br>"
   ]
  },
  {
   "cell_type": "markdown",
   "id": "d1045cf0-a2c2-4360-88e1-615414f543ba",
   "metadata": {},
   "source": [
    "# Some important functions"
   ]
  },
  {
   "cell_type": "markdown",
   "id": "e1740335-4aad-4b88-acf4-fb1bd08d6971",
   "metadata": {},
   "source": [
    "**upper** : changes all the characters in a string to uppercase. <br>\n",
    "**lower** : changes all the case characters in a string to lowercase. <br>\n",
    "**split** : "
   ]
  },
  {
   "cell_type": "code",
   "execution_count": 30,
   "id": "11e0f7fc-e205-4abe-b3be-4f90331635cb",
   "metadata": {},
   "outputs": [
    {
     "name": "stdout",
     "output_type": "stream",
     "text": [
      "HELLO\n",
      "hello\n"
     ]
    }
   ],
   "source": [
    "a = 'hello'\n",
    "b = a.upper()\n",
    "print(b)\n",
    "\n",
    "c = b.lower()\n",
    "print(c)"
   ]
  },
  {
   "cell_type": "markdown",
   "id": "2204f136-5953-4cae-a657-e971dfa527a7",
   "metadata": {},
   "source": [
    "**split function** : splits a string into a list."
   ]
  },
  {
   "cell_type": "code",
   "execution_count": 32,
   "id": "cc32998c-b8ac-46f4-96ca-5d4d1cc699c7",
   "metadata": {},
   "outputs": [
    {
     "name": "stdout",
     "output_type": "stream",
     "text": [
      "['hello', 'world']\n"
     ]
    }
   ],
   "source": [
    "a = \"hello world\"\n",
    "print(a.split())"
   ]
  },
  {
   "cell_type": "markdown",
   "id": "8c4fa896-0071-4860-95a7-8bb0982fbc0f",
   "metadata": {},
   "source": [
    "<br>"
   ]
  },
  {
   "cell_type": "markdown",
   "id": "2acfe27a-8813-4834-b529-a8e7dbcae826",
   "metadata": {},
   "source": [
    "# Concatenation of strings"
   ]
  },
  {
   "cell_type": "code",
   "execution_count": 34,
   "id": "d430e889-4321-4b88-aa01-0d200ca15b71",
   "metadata": {},
   "outputs": [
    {
     "name": "stdout",
     "output_type": "stream",
     "text": [
      "hello world\n"
     ]
    }
   ],
   "source": [
    "# joining two or more strings\n",
    "a = \"hello \"\n",
    "b = \"world\"\n",
    "c = a + b\n",
    "print(c)"
   ]
  },
  {
   "cell_type": "raw",
   "id": "993cb7ad-ec38-4eb3-915e-88bd1e302d23",
   "metadata": {},
   "source": []
  },
  {
   "cell_type": "markdown",
   "id": "7128658e-c08b-43dc-9b52-ad511d0df79a",
   "metadata": {},
   "source": [
    "# Escape sequences\n",
    "Escape sequences are special commands used to suppress special meaning of some character or symbol.<br>"
   ]
  },
  {
   "cell_type": "code",
   "execution_count": 1,
   "id": "4ef03187-2966-43cc-8ed0-482aa0f00666",
   "metadata": {},
   "outputs": [
    {
     "name": "stdout",
     "output_type": "stream",
     "text": [
      "This is Harry's sweater\n"
     ]
    }
   ],
   "source": [
    "print('This is Harry\\'s sweater')"
   ]
  },
  {
   "cell_type": "code",
   "execution_count": 2,
   "id": "5e5cde42-0c4b-436e-92df-ade393236cac",
   "metadata": {},
   "outputs": [
    {
     "name": "stdout",
     "output_type": "stream",
     "text": [
      "This is a \t space\n"
     ]
    }
   ],
   "source": [
    "print('This is a \\t space')"
   ]
  },
  {
   "cell_type": "code",
   "execution_count": 4,
   "id": "147f6cd6-5d0c-463f-922f-1ac75843330c",
   "metadata": {},
   "outputs": [
    {
     "name": "stdout",
     "output_type": "stream",
     "text": [
      "This is a line \n",
      "This is another line\n"
     ]
    }
   ],
   "source": [
    "print('This is a line \\nThis is another line')"
   ]
  },
  {
   "cell_type": "markdown",
   "id": "e2c9dd57-75bb-4bbb-a426-daafb33fd7e6",
   "metadata": {},
   "source": [
    "<br>"
   ]
  },
  {
   "cell_type": "code",
   "execution_count": null,
   "id": "30b4d360-0d0e-4eab-87b0-461197cd6bb8",
   "metadata": {},
   "outputs": [],
   "source": []
  }
 ],
 "metadata": {
  "kernelspec": {
   "display_name": "Python 3 (ipykernel)",
   "language": "python",
   "name": "python3"
  },
  "language_info": {
   "codemirror_mode": {
    "name": "ipython",
    "version": 3
   },
   "file_extension": ".py",
   "mimetype": "text/x-python",
   "name": "python",
   "nbconvert_exporter": "python",
   "pygments_lexer": "ipython3",
   "version": "3.9.7"
  }
 },
 "nbformat": 4,
 "nbformat_minor": 5
}
