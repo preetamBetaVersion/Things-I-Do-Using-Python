{
 "cells": [
  {
   "cell_type": "markdown",
   "id": "c9b453eb-fe95-4814-af45-936daa6f7726",
   "metadata": {},
   "source": [
    "# Python lists and tuples\n",
    "\n",
    "A list is a collection of arbitrary objects.  \n",
    "\n",
    "Python lists are a type of sequences. Each object in a list is assigned an index as is typical for all sequences. These objects can be manipulated using its respective index."
   ]
  },
  {
   "cell_type": "markdown",
   "id": "e0fc87d4-9f19-4516-bb49-bab966729df1",
   "metadata": {},
   "source": [
    "<br>"
   ]
  },
  {
   "cell_type": "markdown",
   "id": "aa45dccd-cdca-49d2-be03-d77c5733c602",
   "metadata": {},
   "source": [
    "## Defining a list"
   ]
  },
  {
   "cell_type": "code",
   "execution_count": 1,
   "id": "d11f6b6d-6985-4c77-9f2b-0905fbce1b49",
   "metadata": {},
   "outputs": [
    {
     "name": "stdout",
     "output_type": "stream",
     "text": [
      "['honda', 'maruti', 'indica', 'audi', 'bmw']\n"
     ]
    }
   ],
   "source": [
    "# below shows a list of cars\n",
    "cars = ['honda', 'maruti', 'indica', 'audi', 'bmw']\n",
    "print(cars)"
   ]
  },
  {
   "cell_type": "markdown",
   "id": "f02f0c03-b06c-41ca-a2af-bd1323fa32d7",
   "metadata": {},
   "source": [
    "<br>"
   ]
  },
  {
   "cell_type": "markdown",
   "id": "63d3dd32-16fd-4d79-93ce-03d8df743abc",
   "metadata": {},
   "source": [
    "## Features of python lists\n",
    "* lists are ordered\n",
    "* lists elements can be manipulated using its index\n",
    "* lists are mutable\n",
    "* lists can contain arbitrary objects\n",
    "* lists can be nested to arbitrary depth"
   ]
  },
  {
   "cell_type": "markdown",
   "id": "060549e0-4cff-4553-923f-e18f710018b6",
   "metadata": {},
   "source": [
    "<br>"
   ]
  },
  {
   "cell_type": "markdown",
   "id": "643a561e-97b2-42c7-abb3-0feb8624fd08",
   "metadata": {},
   "source": [
    "**Question : What does it mean by the definition that 'lists are ordered'?**"
   ]
  },
  {
   "cell_type": "markdown",
   "id": "bfb4e392-02a4-4ce5-a78a-f2bd0508ca5f",
   "metadata": {},
   "source": [
    "**Answer** : it means that two lists will be different if the order of the elements or the sequence of elements placed are different."
   ]
  },
  {
   "cell_type": "code",
   "execution_count": 6,
   "id": "e36d331c-66ce-4742-b297-e2b4bb331a6f",
   "metadata": {},
   "outputs": [
    {
     "data": {
      "text/plain": [
       "False"
      ]
     },
     "execution_count": 6,
     "metadata": {},
     "output_type": "execute_result"
    }
   ],
   "source": [
    "a = [1,2,3]\n",
    "b = [2,1,3]\n",
    "a is b"
   ]
  },
  {
   "cell_type": "markdown",
   "id": "8de0d011-1424-49a5-84d5-d3096a985683",
   "metadata": {},
   "source": [
    "**Note** : **is** and **is not** are identity operators in Python. They are used to check if two values (or variables) are located on the same part of the memory. Two variables that are equal does not imply that they are identical."
   ]
  },
  {
   "cell_type": "markdown",
   "id": "83586eb3-a3f8-4f4a-bebf-8286ca4e9822",
   "metadata": {},
   "source": [
    "## Lists elements can be accessed by index"
   ]
  },
  {
   "cell_type": "code",
   "execution_count": 8,
   "id": "aaff071b-6873-473e-a64b-4701aabb3ebd",
   "metadata": {},
   "outputs": [
    {
     "name": "stdout",
     "output_type": "stream",
     "text": [
      "1\n",
      "peter\n",
      "4\n"
     ]
    }
   ],
   "source": [
    "a = [1,2,3,4,5,'hi','peter']\n",
    "\n",
    "print(a[0])\n",
    "print(a[-1])\n",
    "print(a[3])"
   ]
  },
  {
   "cell_type": "markdown",
   "id": "48ce2887-ceab-4a16-8420-6fafdbe9a71e",
   "metadata": {},
   "source": [
    "## Slicing elements from a list"
   ]
  },
  {
   "cell_type": "code",
   "execution_count": 9,
   "id": "6889d573-e370-4776-a45c-5fcc53fc0e92",
   "metadata": {},
   "outputs": [
    {
     "name": "stdout",
     "output_type": "stream",
     "text": [
      "[2, 3, 4]\n"
     ]
    }
   ],
   "source": [
    "a = [1,2,3,4,5,6,7]\n",
    "print(a[1:4])"
   ]
  },
  {
   "cell_type": "markdown",
   "id": "97b3fc5c-84cd-4f7f-a0ad-0cf061bb6799",
   "metadata": {},
   "source": [
    "Note : When slicing, the elements from position 1 to 3 are selected. 4th indexed element is ignored."
   ]
  },
  {
   "cell_type": "code",
   "execution_count": 10,
   "id": "5ebf7c82-ebdb-493c-bad2-acc44c2fbf94",
   "metadata": {},
   "outputs": [
    {
     "name": "stdout",
     "output_type": "stream",
     "text": [
      "[1, 3, 5]\n"
     ]
    }
   ],
   "source": [
    "print(a[0:6:2])"
   ]
  },
  {
   "cell_type": "markdown",
   "id": "eca23f4f-6632-4e46-880d-92a1e0104ccd",
   "metadata": {},
   "source": [
    "In the above python code, the elements from position is picked till 5th with a gap of 2 as we move towards the right."
   ]
  },
  {
   "cell_type": "markdown",
   "id": "20b79353-5fb3-4f4d-88a1-8223167be993",
   "metadata": {},
   "source": [
    "## Concatenation in lists"
   ]
  },
  {
   "cell_type": "code",
   "execution_count": 11,
   "id": "2023071b-b0ef-4605-8f13-633e4046847e",
   "metadata": {},
   "outputs": [
    {
     "name": "stdout",
     "output_type": "stream",
     "text": [
      "[1, 2, 3, 4, 5, 6, 7, 8]\n"
     ]
    }
   ],
   "source": [
    "a = [1,2,3,4,5]\n",
    "print(a + [6,7,8])"
   ]
  },
  {
   "cell_type": "markdown",
   "id": "8ba22c17-8a7a-4456-ba79-7c32e7a2d559",
   "metadata": {},
   "source": [
    "## Replication of lists"
   ]
  },
  {
   "cell_type": "code",
   "execution_count": 13,
   "id": "677ccbd5-df3e-4cb1-bd47-127ea75118cd",
   "metadata": {},
   "outputs": [
    {
     "name": "stdout",
     "output_type": "stream",
     "text": [
      "[1, 2, 3, 1, 2, 3]\n",
      "[1, 2, 3, 1, 2, 3, 1, 2, 3, 1, 2, 3]\n"
     ]
    }
   ],
   "source": [
    "a = [1,2,3]\n",
    "print(a*2)\n",
    "print(a*4)"
   ]
  },
  {
   "cell_type": "code",
   "execution_count": 14,
   "id": "291ebbbe-e6b9-40ce-88b8-2f29fc3e0fd3",
   "metadata": {},
   "outputs": [
    {
     "ename": "TypeError",
     "evalue": "unsupported operand type(s) for +: 'int' and 'list'",
     "output_type": "error",
     "traceback": [
      "\u001b[1;31m---------------------------------------------------------------------------\u001b[0m",
      "\u001b[1;31mTypeError\u001b[0m                                 Traceback (most recent call last)",
      "\u001b[1;32mC:\\Users\\PREETA~1\\AppData\\Local\\Temp/ipykernel_6028/2693797663.py\u001b[0m in \u001b[0;36m<module>\u001b[1;34m\u001b[0m\n\u001b[1;32m----> 1\u001b[1;33m \u001b[0mprint\u001b[0m\u001b[1;33m(\u001b[0m\u001b[1;36m0\u001b[0m \u001b[1;33m+\u001b[0m \u001b[0ma\u001b[0m\u001b[1;33m)\u001b[0m\u001b[1;33m\u001b[0m\u001b[1;33m\u001b[0m\u001b[0m\n\u001b[0m",
      "\u001b[1;31mTypeError\u001b[0m: unsupported operand type(s) for +: 'int' and 'list'"
     ]
    }
   ],
   "source": [
    "print(0 + a)"
   ]
  },
  {
   "cell_type": "markdown",
   "id": "0d0d14e0-1cff-46f8-8ec9-efbd91e50ec7",
   "metadata": {},
   "source": [
    "In the above case we get an error because the object type of 0 and a are different. 0 is an int type while a is a list type."
   ]
  },
  {
   "cell_type": "markdown",
   "id": "bb7f1900-023e-40fa-8c08-9caad3483957",
   "metadata": {},
   "source": [
    "<br>"
   ]
  },
  {
   "cell_type": "markdown",
   "id": "0a1bb8be-80e4-4310-a4f6-c530d3e38814",
   "metadata": {},
   "source": [
    "## Mutable property of lists"
   ]
  },
  {
   "cell_type": "code",
   "execution_count": 18,
   "id": "714546aa-6f42-44ff-b19b-b05659321cb2",
   "metadata": {},
   "outputs": [
    {
     "name": "stdout",
     "output_type": "stream",
     "text": [
      "[1, 2, 3, 4]\n"
     ]
    }
   ],
   "source": [
    "a = [1,2,5]\n",
    "a[2:4] = [3,4]\n",
    "print(a)"
   ]
  },
  {
   "cell_type": "markdown",
   "id": "52261772-5c0c-4409-82bc-355745522c5f",
   "metadata": {},
   "source": [
    "## append() method in lists\n",
    "It is used to add elements at the end of a list"
   ]
  },
  {
   "cell_type": "code",
   "execution_count": 19,
   "id": "4051feed-924c-48df-8144-71db89499773",
   "metadata": {},
   "outputs": [
    {
     "name": "stdout",
     "output_type": "stream",
     "text": [
      "[1, 2, 3, 4]\n"
     ]
    }
   ],
   "source": [
    "a = [1,2,3]\n",
    "a.append(4)\n",
    "print(a)"
   ]
  },
  {
   "cell_type": "markdown",
   "id": "42dd63a1-7f1a-4f9b-bdd9-82bfce050a61",
   "metadata": {},
   "source": [
    "## To find the lenght of a list"
   ]
  },
  {
   "cell_type": "code",
   "execution_count": 20,
   "id": "f468b496-c200-4d64-9249-b33a5c307ca8",
   "metadata": {},
   "outputs": [
    {
     "name": "stdout",
     "output_type": "stream",
     "text": [
      "4\n"
     ]
    }
   ],
   "source": [
    "print(len(a))"
   ]
  },
  {
   "cell_type": "markdown",
   "id": "c2b19975-b234-4ecb-a6dc-4897be41149d",
   "metadata": {},
   "source": [
    "## The remove method"
   ]
  },
  {
   "cell_type": "code",
   "execution_count": 21,
   "id": "98ce21f7-3313-4d8f-979c-67543930c994",
   "metadata": {},
   "outputs": [
    {
     "name": "stdout",
     "output_type": "stream",
     "text": [
      "[1, 2, 4]\n"
     ]
    }
   ],
   "source": [
    "a = [1,2,3,4]\n",
    "# the remove method removes an object from the list\n",
    "a.remove(3)\n",
    "print(a)"
   ]
  },
  {
   "cell_type": "markdown",
   "id": "6e72523c-451f-44a1-8dda-48c8424d1151",
   "metadata": {},
   "source": [
    "## pop() function\n",
    "It is used to pop out the last object in a list and store it for other uses. You can use a variable to store that value."
   ]
  },
  {
   "cell_type": "code",
   "execution_count": 23,
   "id": "e56452e7-9537-400a-b8f8-c8a9b5e606c3",
   "metadata": {},
   "outputs": [
    {
     "name": "stdout",
     "output_type": "stream",
     "text": [
      "3\n",
      "[1, 2]\n"
     ]
    }
   ],
   "source": [
    "a = [1,2,3]\n",
    "b = a.pop()\n",
    "print(b)\n",
    "print(a)"
   ]
  },
  {
   "cell_type": "markdown",
   "id": "d74f3fad-aa4b-4fb7-a74c-8371ca1d8f14",
   "metadata": {},
   "source": [
    "<br>"
   ]
  },
  {
   "cell_type": "markdown",
   "id": "016c7b5f-e6e7-448a-acf6-95985681ecf4",
   "metadata": {},
   "source": [
    "# Tuples\n",
    "Tuples are another ordered collection of objects just like lists except 2 properties where they differ : \n",
    "* tuples are not mutable\n",
    "* tuples are defined using parenthesis instead of square brackets."
   ]
  },
  {
   "cell_type": "markdown",
   "id": "6bda6369-861f-4d24-a56c-89cd8c1505bb",
   "metadata": {},
   "source": [
    "## Tuple packing and unpacking"
   ]
  },
  {
   "cell_type": "code",
   "execution_count": null,
   "id": "7450bd84-61a1-4fd9-b1fa-c576b6747eac",
   "metadata": {},
   "outputs": [],
   "source": [
    "t = (1,2,3,4)\n",
    "(1,2,3,4) = (a,b,c,d)\n"
   ]
  }
 ],
 "metadata": {
  "kernelspec": {
   "display_name": "Python 3 (ipykernel)",
   "language": "python",
   "name": "python3"
  },
  "language_info": {
   "codemirror_mode": {
    "name": "ipython",
    "version": 3
   },
   "file_extension": ".py",
   "mimetype": "text/x-python",
   "name": "python",
   "nbconvert_exporter": "python",
   "pygments_lexer": "ipython3",
   "version": "3.9.7"
  }
 },
 "nbformat": 4,
 "nbformat_minor": 5
}
